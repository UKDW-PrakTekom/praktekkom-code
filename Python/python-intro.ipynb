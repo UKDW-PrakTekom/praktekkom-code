{
 "cells": [
  {
   "cell_type": "code",
   "execution_count": 1,
   "metadata": {},
   "outputs": [
    {
     "name": "stdout",
     "output_type": "stream",
     "text": [
      "x is less than y\n"
     ]
    }
   ],
   "source": [
    "# Prompt user for integers\n",
    "x = int(input(\"What's x? \"))\n",
    "y = int(input(\"What's y? \"))\n",
    "\n",
    "# Compare integers\n",
    "if x < y:\n",
    "    print(\"x is less than y\")\n",
    "elif x > y:\n",
    "    print(\"x is greater than y\")\n",
    "else:\n",
    "    print(\"x is equal to y\")\n"
   ]
  },
  {
   "cell_type": "code",
   "execution_count": 2,
   "metadata": {},
   "outputs": [
    {
     "name": "stdout",
     "output_type": "stream",
     "text": [
      "meow\n",
      "meow\n",
      "meow\n"
     ]
    }
   ],
   "source": [
    "i = 0\n",
    "while i < 3:\n",
    "    print(\"meow\")\n",
    "    i += 1"
   ]
  },
  {
   "cell_type": "code",
   "execution_count": 3,
   "metadata": {},
   "outputs": [
    {
     "name": "stdout",
     "output_type": "stream",
     "text": [
      "meow\n",
      "meow\n",
      "meow\n"
     ]
    }
   ],
   "source": [
    "for i in range(3):\n",
    "    print(\"meow\")"
   ]
  },
  {
   "cell_type": "code",
   "execution_count": 5,
   "metadata": {},
   "outputs": [
    {
     "name": "stdout",
     "output_type": "stream",
     "text": [
      "In 1789, George Washington took office\n",
      "In 1797, John Adams took office\n",
      "In 1801, Thomas Jefferson took office\n",
      "In 1809, James Madison took office\n"
     ]
    }
   ],
   "source": [
    "presidents = [\n",
    "\t(\"George Washington\", 1789),\n",
    "\t(\"John Adams\", 1797),\n",
    "\t(\"Thomas Jefferson\", 1801),\n",
    "\t(\"James Madison\", 1809)\n",
    "]\n",
    "\n",
    "for prez, year in presidents:\n",
    "\tprint(\"In {1}, {0} took office\".format(prez, year))\n"
   ]
  },
  {
   "cell_type": "code",
   "execution_count": 10,
   "metadata": {},
   "outputs": [
    {
     "name": "stdout",
     "output_type": "stream",
     "text": [
      "Pejumlahan =  9\n",
      "Pengurangan =  -1\n",
      "Perkalian =  20\n",
      "Pembagian =  0.8\n"
     ]
    }
   ],
   "source": [
    "x = int(input(\"x: \"))\n",
    "y = int(input(\"y: \"))\n",
    "\n",
    "tambah = x + y\n",
    "kurang = x - y\n",
    "kali = x * y\n",
    "bagi = x / y\n",
    "\n",
    "print(\"Pejumlahan = \", tambah)\n",
    "print(\"Pengurangan = \", kurang)\n",
    "print(\"Perkalian = \", kali)\n",
    "print(\"Pembagian = \", bagi)"
   ]
  }
 ],
 "metadata": {
  "kernelspec": {
   "display_name": "base",
   "language": "python",
   "name": "python3"
  },
  "language_info": {
   "codemirror_mode": {
    "name": "ipython",
    "version": 3
   },
   "file_extension": ".py",
   "mimetype": "text/x-python",
   "name": "python",
   "nbconvert_exporter": "python",
   "pygments_lexer": "ipython3",
   "version": "3.9.7"
  }
 },
 "nbformat": 4,
 "nbformat_minor": 2
}
